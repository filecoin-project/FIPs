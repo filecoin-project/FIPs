{
 "cells": [
  {
   "cell_type": "code",
   "execution_count": 17,
   "metadata": {},
   "outputs": [],
   "source": [
    "import numpy as np\n",
    "import pandas as pd\n",
    "from datetime import datetime \n",
    "import matplotlib.pyplot as plt"
   ]
  },
  {
   "cell_type": "markdown",
   "metadata": {},
   "source": [
    "## Import data and compute deltas"
   ]
  },
  {
   "cell_type": "code",
   "execution_count": 18,
   "metadata": {},
   "outputs": [
    {
     "data": {
      "text/html": [
       "<div>\n",
       "<style scoped>\n",
       "    .dataframe tbody tr th:only-of-type {\n",
       "        vertical-align: middle;\n",
       "    }\n",
       "\n",
       "    .dataframe tbody tr th {\n",
       "        vertical-align: top;\n",
       "    }\n",
       "\n",
       "    .dataframe thead th {\n",
       "        text-align: right;\n",
       "    }\n",
       "</style>\n",
       "<table border=\"1\" class=\"dataframe\">\n",
       "  <thead>\n",
       "    <tr style=\"text-align: right;\">\n",
       "      <th></th>\n",
       "      <th>first_seen_epoch_ms</th>\n",
       "      <th>header_timestamp</th>\n",
       "      <th>peer_id</th>\n",
       "      <th>header_cid</th>\n",
       "      <th>time_delta</th>\n",
       "    </tr>\n",
       "  </thead>\n",
       "  <tbody>\n",
       "    <tr>\n",
       "      <th>0</th>\n",
       "      <td>1.654042e+09</td>\n",
       "      <td>1654041600</td>\n",
       "      <td>12D3KooWScFR7385LTyR4zU1bYdzSiiAb5rnNABfVahPvV...</td>\n",
       "      <td>bafy2bzaceard6jwerfy7i6uz6zswtkey55idvlmde3hbc...</td>\n",
       "      <td>0.213350</td>\n",
       "    </tr>\n",
       "    <tr>\n",
       "      <th>1</th>\n",
       "      <td>1.654042e+09</td>\n",
       "      <td>1654041600</td>\n",
       "      <td>12D3KooWScFR7385LTyR4zU1bYdzSiiAb5rnNABfVahPvV...</td>\n",
       "      <td>bafy2bzacechhio4g2rswn5q2foewbjhmtedd5mzhstona...</td>\n",
       "      <td>0.231278</td>\n",
       "    </tr>\n",
       "    <tr>\n",
       "      <th>2</th>\n",
       "      <td>1.654042e+09</td>\n",
       "      <td>1654041600</td>\n",
       "      <td>12D3KooWScFR7385LTyR4zU1bYdzSiiAb5rnNABfVahPvV...</td>\n",
       "      <td>bafy2bzacedl72rwz6ouvvu3x7oa276amerr5peqg2cdwf...</td>\n",
       "      <td>0.245952</td>\n",
       "    </tr>\n",
       "    <tr>\n",
       "      <th>3</th>\n",
       "      <td>1.654042e+09</td>\n",
       "      <td>1654041600</td>\n",
       "      <td>12D3KooWScFR7385LTyR4zU1bYdzSiiAb5rnNABfVahPvV...</td>\n",
       "      <td>bafy2bzacedabk2gvcqyo5oktloty2wtiymcjnzv3wnspq...</td>\n",
       "      <td>0.256922</td>\n",
       "    </tr>\n",
       "    <tr>\n",
       "      <th>4</th>\n",
       "      <td>1.654042e+09</td>\n",
       "      <td>1654041600</td>\n",
       "      <td>12D3KooWLFynvDQiUpXoHroV1YxKHhPJgysQGH2k3ZGwtW...</td>\n",
       "      <td>bafy2bzacechhio4g2rswn5q2foewbjhmtedd5mzhstona...</td>\n",
       "      <td>0.306224</td>\n",
       "    </tr>\n",
       "    <tr>\n",
       "      <th>...</th>\n",
       "      <td>...</td>\n",
       "      <td>...</td>\n",
       "      <td>...</td>\n",
       "      <td>...</td>\n",
       "      <td>...</td>\n",
       "    </tr>\n",
       "    <tr>\n",
       "      <th>3625328</th>\n",
       "      <td>1.661386e+09</td>\n",
       "      <td>1661385930</td>\n",
       "      <td>12D3KooWCwevHg1yLCvktf2nvLu7L9894mcrJR4MsBCcm4...</td>\n",
       "      <td>bafy2bzacebo7xqczp4izlhyx72lqlaait6sltpx2wsxa3...</td>\n",
       "      <td>0.287632</td>\n",
       "    </tr>\n",
       "    <tr>\n",
       "      <th>3625329</th>\n",
       "      <td>1.661386e+09</td>\n",
       "      <td>1661385930</td>\n",
       "      <td>12D3KooWCwevHg1yLCvktf2nvLu7L9894mcrJR4MsBCcm4...</td>\n",
       "      <td>bafy2bzaceclpnnveezyfz5esmvlkxfmdqwmpwuilcwt2u...</td>\n",
       "      <td>0.301404</td>\n",
       "    </tr>\n",
       "    <tr>\n",
       "      <th>3625330</th>\n",
       "      <td>1.661386e+09</td>\n",
       "      <td>1661385930</td>\n",
       "      <td>12D3KooWCwevHg1yLCvktf2nvLu7L9894mcrJR4MsBCcm4...</td>\n",
       "      <td>bafy2bzaceczwpd5debcwlehksjp7hlyg2ymnlc6oh5xib...</td>\n",
       "      <td>0.385500</td>\n",
       "    </tr>\n",
       "    <tr>\n",
       "      <th>3625331</th>\n",
       "      <td>1.661386e+09</td>\n",
       "      <td>1661385930</td>\n",
       "      <td>12D3KooWCwevHg1yLCvktf2nvLu7L9894mcrJR4MsBCcm4...</td>\n",
       "      <td>bafy2bzacec7psmxcl453hrsykxv6adejawwahbwm3znx7...</td>\n",
       "      <td>0.477145</td>\n",
       "    </tr>\n",
       "    <tr>\n",
       "      <th>3625332</th>\n",
       "      <td>1.661386e+09</td>\n",
       "      <td>1661385930</td>\n",
       "      <td>12D3KooWCwevHg1yLCvktf2nvLu7L9894mcrJR4MsBCcm4...</td>\n",
       "      <td>bafy2bzacedancrmto3fanxrnu6mv5fcld7rhy2e7nkh5y...</td>\n",
       "      <td>0.841980</td>\n",
       "    </tr>\n",
       "  </tbody>\n",
       "</table>\n",
       "<p>3625333 rows × 5 columns</p>\n",
       "</div>"
      ],
      "text/plain": [
       "         first_seen_epoch_ms  header_timestamp  \\\n",
       "0               1.654042e+09        1654041600   \n",
       "1               1.654042e+09        1654041600   \n",
       "2               1.654042e+09        1654041600   \n",
       "3               1.654042e+09        1654041600   \n",
       "4               1.654042e+09        1654041600   \n",
       "...                      ...               ...   \n",
       "3625328         1.661386e+09        1661385930   \n",
       "3625329         1.661386e+09        1661385930   \n",
       "3625330         1.661386e+09        1661385930   \n",
       "3625331         1.661386e+09        1661385930   \n",
       "3625332         1.661386e+09        1661385930   \n",
       "\n",
       "                                                   peer_id  \\\n",
       "0        12D3KooWScFR7385LTyR4zU1bYdzSiiAb5rnNABfVahPvV...   \n",
       "1        12D3KooWScFR7385LTyR4zU1bYdzSiiAb5rnNABfVahPvV...   \n",
       "2        12D3KooWScFR7385LTyR4zU1bYdzSiiAb5rnNABfVahPvV...   \n",
       "3        12D3KooWScFR7385LTyR4zU1bYdzSiiAb5rnNABfVahPvV...   \n",
       "4        12D3KooWLFynvDQiUpXoHroV1YxKHhPJgysQGH2k3ZGwtW...   \n",
       "...                                                    ...   \n",
       "3625328  12D3KooWCwevHg1yLCvktf2nvLu7L9894mcrJR4MsBCcm4...   \n",
       "3625329  12D3KooWCwevHg1yLCvktf2nvLu7L9894mcrJR4MsBCcm4...   \n",
       "3625330  12D3KooWCwevHg1yLCvktf2nvLu7L9894mcrJR4MsBCcm4...   \n",
       "3625331  12D3KooWCwevHg1yLCvktf2nvLu7L9894mcrJR4MsBCcm4...   \n",
       "3625332  12D3KooWCwevHg1yLCvktf2nvLu7L9894mcrJR4MsBCcm4...   \n",
       "\n",
       "                                                header_cid  time_delta  \n",
       "0        bafy2bzaceard6jwerfy7i6uz6zswtkey55idvlmde3hbc...    0.213350  \n",
       "1        bafy2bzacechhio4g2rswn5q2foewbjhmtedd5mzhstona...    0.231278  \n",
       "2        bafy2bzacedl72rwz6ouvvu3x7oa276amerr5peqg2cdwf...    0.245952  \n",
       "3        bafy2bzacedabk2gvcqyo5oktloty2wtiymcjnzv3wnspq...    0.256922  \n",
       "4        bafy2bzacechhio4g2rswn5q2foewbjhmtedd5mzhstona...    0.306224  \n",
       "...                                                    ...         ...  \n",
       "3625328  bafy2bzacebo7xqczp4izlhyx72lqlaait6sltpx2wsxa3...    0.287632  \n",
       "3625329  bafy2bzaceclpnnveezyfz5esmvlkxfmdqwmpwuilcwt2u...    0.301404  \n",
       "3625330  bafy2bzaceczwpd5debcwlehksjp7hlyg2ymnlc6oh5xib...    0.385500  \n",
       "3625331  bafy2bzacec7psmxcl453hrsykxv6adejawwahbwm3znx7...    0.477145  \n",
       "3625332  bafy2bzacedancrmto3fanxrnu6mv5fcld7rhy2e7nkh5y...    0.841980  \n",
       "\n",
       "[3625333 rows x 5 columns]"
      ]
     },
     "execution_count": 18,
     "metadata": {},
     "output_type": "execute_result"
    }
   ],
   "source": [
    "bins = np.linspace(0,6,600)\n",
    "df = pd.read_csv('observed_headers.csv')\n",
    "df['time_delta'] = df['first_seen_epoch_ms']-df['header_timestamp']\n",
    "df"
   ]
  },
  {
   "cell_type": "code",
   "execution_count": 19,
   "metadata": {},
   "outputs": [
    {
     "data": {
      "text/plain": [
       "count    3.625333e+06\n",
       "mean     2.650739e+04\n",
       "std      9.516005e+05\n",
       "min     -2.489098e+01\n",
       "25%      2.295039e-01\n",
       "50%      3.124230e-01\n",
       "75%      4.262199e-01\n",
       "max      6.008209e+07\n",
       "Name: time_delta, dtype: float64"
      ]
     },
     "execution_count": 19,
     "metadata": {},
     "output_type": "execute_result"
    }
   ],
   "source": [
    "df['time_delta'].describe()"
   ]
  },
  {
   "cell_type": "markdown",
   "metadata": {},
   "source": [
    "## Plot first delivery of each block to *any* bootstrapper"
   ]
  },
  {
   "cell_type": "code",
   "execution_count": 20,
   "metadata": {},
   "outputs": [
    {
     "data": {
      "image/png": "[encoded data removed]",
      "text/plain": [
       "<Figure size 864x288 with 1 Axes>"
      ]
     },
     "metadata": {
      "needs_background": "light"
     },
     "output_type": "display_data"
    }
   ],
   "source": [
    "fig, ax1 = plt.subplots(figsize=(12, 4))\n",
    "ax1.hist(df['time_delta'], bins, density=True, histtype='step')\n",
    "ax1.set_xlabel('delay (s)')\n",
    "plt.xlim([0, 6])\n",
    "plt.show()"
   ]
  },
  {
   "cell_type": "code",
   "execution_count": 21,
   "metadata": {},
   "outputs": [
    {
     "data": {
      "image/png": "[encoded data removed]",
      "text/plain": [
       "<Figure size 864x288 with 1 Axes>"
      ]
     },
     "metadata": {
      "needs_background": "light"
     },
     "output_type": "display_data"
    }
   ],
   "source": [
    "fig, ax2 = plt.subplots(figsize=(12, 4))\n",
    "ax2.hist(df['time_delta'], bins, density=True, histtype='step', cumulative=1, label='CDF')\n",
    "ax2.hist(df['time_delta'], bins, density=True, histtype='step', cumulative=-1, label='CCDF')\n",
    "ax2.legend(loc='right')\n",
    "ax2.set_xlabel('delay (s)')\n",
    "plt.xlim([0, 6])\n",
    "plt.show()"
   ]
  },
  {
   "cell_type": "markdown",
   "metadata": {},
   "source": [
    "## Plot delivery to each individual bootstrapper"
   ]
  },
  {
   "cell_type": "code",
   "execution_count": 22,
   "metadata": {},
   "outputs": [],
   "source": [
    "df_1 = df.loc[df['peer_id']=='12D3KooWLFynvDQiUpXoHroV1YxKHhPJgysQGH2k3ZGwtWzR4dFH']\n",
    "df_2 = df.loc[df['peer_id']=='12D3KooWScFR7385LTyR4zU1bYdzSiiAb5rnNABfVahPvVSzyTkR']\n",
    "df_3 = df.loc[df['peer_id']=='12D3KooWCwevHg1yLCvktf2nvLu7L9894mcrJR4MsBCcm4syShVc']"
   ]
  },
  {
   "cell_type": "code",
   "execution_count": 23,
   "metadata": {
    "scrolled": true
   },
   "outputs": [
    {
     "data": {
      "text/plain": [
       "count    1.215481e+06\n",
       "mean     1.905673e+04\n",
       "std      7.787017e+05\n",
       "min     -2.489098e+01\n",
       "25%      2.548001e-01\n",
       "50%      3.301470e-01\n",
       "75%      4.431829e-01\n",
       "max      6.008209e+07\n",
       "Name: time_delta, dtype: float64"
      ]
     },
     "execution_count": 23,
     "metadata": {},
     "output_type": "execute_result"
    }
   ],
   "source": [
    "df_1['time_delta'].describe()"
   ]
  },
  {
   "cell_type": "code",
   "execution_count": 24,
   "metadata": {},
   "outputs": [
    {
     "data": {
      "text/plain": [
       "count    1.216037e+06\n",
       "mean     4.059510e+04\n",
       "std      1.193907e+06\n",
       "min     -2.480040e+01\n",
       "25%      1.790190e-01\n",
       "50%      2.535620e-01\n",
       "75%      3.680949e-01\n",
       "max      6.007962e+07\n",
       "Name: time_delta, dtype: float64"
      ]
     },
     "execution_count": 24,
     "metadata": {},
     "output_type": "execute_result"
    }
   ],
   "source": [
    "df_2['time_delta'].describe()"
   ]
  },
  {
   "cell_type": "code",
   "execution_count": 25,
   "metadata": {},
   "outputs": [
    {
     "data": {
      "text/plain": [
       "count    1.193694e+06\n",
       "mean     1.949033e+04\n",
       "std      8.236735e+05\n",
       "min     -2.482439e+01\n",
       "25%      2.674651e-01\n",
       "50%      3.434579e-01\n",
       "75%      4.517848e-01\n",
       "max      6.008020e+07\n",
       "Name: time_delta, dtype: float64"
      ]
     },
     "execution_count": 25,
     "metadata": {},
     "output_type": "execute_result"
    }
   ],
   "source": [
    "df_3['time_delta'].describe()"
   ]
  },
  {
   "cell_type": "code",
   "execution_count": 26,
   "metadata": {},
   "outputs": [
    {
     "data": {
      "image/png": "[encoded data removed]",
      "text/plain": [
       "<Figure size 864x288 with 1 Axes>"
      ]
     },
     "metadata": {
      "needs_background": "light"
     },
     "output_type": "display_data"
    }
   ],
   "source": [
    "fig, ax3 = plt.subplots(figsize=(12, 4))\n",
    "ax3.hist(df_1['time_delta'], bins, density=True, histtype='step', label='PDF1')\n",
    "ax3.hist(df_2['time_delta'], bins, density=True, histtype='step', label='PDF2')\n",
    "ax3.hist(df_3['time_delta'], bins, density=True, histtype='step', label='PDF3')\n",
    "ax3.legend(loc='right')\n",
    "ax3.set_xlabel('delay (s)')\n",
    "plt.xlim([0, 6])\n",
    "plt.show()"
   ]
  },
  {
   "cell_type": "code",
   "execution_count": 27,
   "metadata": {},
   "outputs": [
    {
     "data": {
      "image/png": "[encoded data removed]",
      "text/plain": [
       "<Figure size 864x288 with 1 Axes>"
      ]
     },
     "metadata": {
      "needs_background": "light"
     },
     "output_type": "display_data"
    }
   ],
   "source": [
    "fig, ax4 = plt.subplots(figsize=(12, 4))\n",
    "ax4.hist(df_1['time_delta'], bins, density=True, histtype='step', cumulative=1, label='CDF1')\n",
    "ax4.hist(df_2['time_delta'], bins, density=True, histtype='step', cumulative=1, label='CDF2')\n",
    "ax4.hist(df_3['time_delta'], bins, density=True, histtype='step', cumulative=1, label='CDF3')\n",
    "ax4.hist(df_1['time_delta'], bins, density=True, histtype='step', cumulative=-1, label='CCDF1')\n",
    "ax4.hist(df_2['time_delta'], bins, density=True, histtype='step', cumulative=-1, label='CCDF2')\n",
    "ax4.hist(df_3['time_delta'], bins, density=True, histtype='step', cumulative=-1, label='CCDF3')\n",
    "ax4.legend(loc='right')\n",
    "ax4.set_xlabel('delay (s)')\n",
    "plt.xlim([0, 6])\n",
    "plt.show()"
   ]
  }
 ],
 "metadata": {
  "kernelspec": {
   "display_name": "Python 3",
   "language": "python",
   "name": "python3"
  },
  "language_info": {
   "codemirror_mode": {
    "name": "ipython",
    "version": 3
   },
   "file_extension": ".py",
   "mimetype": "text/x-python",
   "name": "python",
   "nbconvert_exporter": "python",
   "pygments_lexer": "ipython3",
   "version": "3.8.5"
  }
 },
 "nbformat": 4,
 "nbformat_minor": 4
}
